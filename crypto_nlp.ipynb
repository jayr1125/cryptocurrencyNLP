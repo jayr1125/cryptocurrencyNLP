{
 "cells": [
  {
   "cell_type": "markdown",
   "metadata": {},
   "source": [
    "### <b>Import the Libraries</b>"
   ]
  },
  {
   "cell_type": "code",
   "execution_count": 1,
   "metadata": {},
   "outputs": [],
   "source": [
    "import json\n",
    "import re\n",
    "import pandas as pd\n",
    "import datetime\n",
    "from twython import Twython\n",
    "from textblob import TextBlob\n",
    "from requests import Request, Session\n",
    "from requests.exceptions import ConnectionError, Timeout, TooManyRedirects"
   ]
  },
  {
   "cell_type": "markdown",
   "metadata": {},
   "source": [
    "### <b>Create function to get the top N cryptocurrencies on coinmarketcap.com</b>"
   ]
  },
  {
   "cell_type": "code",
   "execution_count": 2,
   "metadata": {},
   "outputs": [],
   "source": [
    "def getTopNCryptocurrencies(N):\n",
    "    \"\"\"\n",
    "    Gets the top N cryptocurrencies in coinmarketcap.com\n",
    "    \"\"\"\n",
    "    \n",
    "    #Limit returns the top N cryptocurrencies on coinmarketcap\n",
    "    url = 'https://pro-api.coinmarketcap.com/v1/cryptocurrency/listings/latest'\n",
    "    parameters = {\n",
    "      'start':'1',\n",
    "      'limit':f'{N}',\n",
    "      'convert':'USD'\n",
    "    }\n",
    "    \n",
    "    #Provide your API key from coinmarketcap\n",
    "    headers = {\n",
    "      'Accepts': 'application/json',\n",
    "      'X-CMC_PRO_API_KEY': 'GET FROM COINMARKETCAP',\n",
    "    }\n",
    "    \n",
    "    #Start session to connect to coinmarketcap\n",
    "    session = Session()\n",
    "    session.headers.update(headers)\n",
    "    \n",
    "    try:\n",
    "      response = session.get(url, params=parameters)\n",
    "      data = json.loads(response.text)\n",
    "      #print(data)\n",
    "    except (ConnectionError, Timeout, TooManyRedirects) as e:\n",
    "      print(e)\n",
    "    \n",
    "    #Append the top N coins and return them as a list\n",
    "    coins = []\n",
    "    for i in range(N):\n",
    "        coins.append((data['data'][i]['name'], data['data'][i]['symbol'], data['data'][i]['slug']))\n",
    "                     \n",
    "    return coins"
   ]
  },
  {
   "cell_type": "markdown",
   "metadata": {},
   "source": [
    "### <b>Retrieve the top N coins</b>"
   ]
  },
  {
   "cell_type": "code",
   "execution_count": 3,
   "metadata": {},
   "outputs": [
    {
     "name": "stdout",
     "output_type": "stream",
     "text": [
      "Top 10 cryptocurrencies today:\n",
      "Bitcoin / BTC / bitcoin\n",
      "Ethereum / ETH / ethereum\n",
      "Binance Coin / BNB / binance-coin\n",
      "Dogecoin / DOGE / dogecoin\n",
      "Cardano / ADA / cardano\n",
      "Tether / USDT / tether\n",
      "XRP / XRP / xrp\n",
      "Polkadot / DOT / polkadot-new\n",
      "Internet Computer / ICP / internet-computer\n",
      "Bitcoin Cash / BCH / bitcoin-cash\n"
     ]
    }
   ],
   "source": [
    "n = 10\n",
    "\n",
    "print(f\"Top {n} cryptocurrencies today:\")\n",
    "for coin in getTopNCryptocurrencies(n):\n",
    "    print(coin[0], '/', coin[1], '/', coin[2])"
   ]
  },
  {
   "cell_type": "markdown",
   "metadata": {},
   "source": [
    "### <b>Store twitter credentials in json file</b>"
   ]
  },
  {
   "cell_type": "code",
   "execution_count": 4,
   "metadata": {},
   "outputs": [],
   "source": [
    "def twitterCredentials(files):\n",
    "    \"\"\"\n",
    "    Saves twitter credentials (API key, token, etc.)\n",
    "    \"\"\"\n",
    "    \n",
    "    credentials = {}\n",
    "    credentials['API_KEY'] = 'GET FROM TWITTER'\n",
    "    credentials['API_SECRET_KEY'] = 'GET FROM TWITTER'\n",
    "    credentials['ACCESS_TOKEN'] = 'GET FROM TWITTER'\n",
    "    credentials['ACCESS_SECRET_TOKEN'] = 'GET FROM TWITTER'\n",
    "    \n",
    "    with open(files, \"w\") as file:\n",
    "        json.dump(credentials, file)\n",
    "        print(\"Credentials Saved\")\n",
    "        return"
   ]
  },
  {
   "cell_type": "code",
   "execution_count": 5,
   "metadata": {},
   "outputs": [
    {
     "name": "stdout",
     "output_type": "stream",
     "text": [
      "Credentials Saved\n"
     ]
    }
   ],
   "source": [
    "twitterCredentials(\"twitter_credentials.json\")"
   ]
  },
  {
   "cell_type": "markdown",
   "metadata": {},
   "source": [
    "### <b>Perform sentiment analysis using Twython and TextBlob libraries</b>"
   ]
  },
  {
   "cell_type": "code",
   "execution_count": 6,
   "metadata": {},
   "outputs": [],
   "source": [
    "def twitterSentiment(cryptocurrency, language = 'en'):\n",
    "    \"\"\"\n",
    "    Gets the sentiment of a coin through polarity and subjectivity\n",
    "    \"\"\"\n",
    "    \n",
    "    #This will open the credentials that we have saved earlier\n",
    "    with open(\"twitter_credentials.json\", \"r\") as file:\n",
    "        credential = json.load(file)\n",
    "        \n",
    "    coin_tweets = Twython(credential['API_KEY'], credential['API_SECRET_KEY'])\n",
    "    \n",
    "    keywords = \" / \".join(cryptocurrency)\n",
    "    \n",
    "    query = {'q': keywords,\n",
    "             'result_type': 'popular',\n",
    "             'lang': language}\n",
    "    \n",
    "    #Create a dictionary containing details about the cryptocurrency\n",
    "    #Polarity is a value [-1, 1] denoting negative and positive sentiment\n",
    "    #Subjectivity is a value [0, 1] denoting subjectivity of tweets\n",
    "    my_dict = {'coin': [], 'date': [], 'text': [], 'polarity': [], 'subjectivity': []}\n",
    "    \n",
    "    for status in coin_tweets.search(**query)['statuses']:\n",
    "        my_dict['coin'].append(keywords)\n",
    "        my_dict['date'].append(status['created_at'])\n",
    "        my_dict['text'].append(status['text'])\n",
    "        \n",
    "        tweet = status['text'].encode(\"utf-8\")\n",
    "        tweet = \" \".join(re.findall(\"[a-zA-Z]+\", str(tweet)))\n",
    "        \n",
    "        analysis = TextBlob(tweet.strip())\n",
    "        sentiment = analysis.sentiment\n",
    "        my_dict['polarity'] = sentiment.polarity\n",
    "        my_dict['subjectivity'] = sentiment.subjectivity\n",
    "        \n",
    "    data = pd.DataFrame(my_dict)\n",
    "        \n",
    "    return (float(data.loc[:,'polarity'].mean()), float(data.loc[:,'subjectivity'].mean()))"
   ]
  },
  {
   "cell_type": "markdown",
   "metadata": {},
   "source": [
    "### <b>Testing our cryptocurrency sentiment analysis script</b>"
   ]
  },
  {
   "cell_type": "code",
   "execution_count": 7,
   "metadata": {},
   "outputs": [
    {
     "name": "stdout",
     "output_type": "stream",
     "text": [
      "CRYPTOCURRENCY SENTIMENT ANALYSIS...\n",
      "2021-05-15 01:29:15.375829\n",
      "1 ('Bitcoin', 'BTC', 'bitcoin')\n",
      "2 ('Ethereum', 'ETH', 'ethereum')\n",
      "3 ('Binance Coin', 'BNB', 'binance-coin')\n",
      "4 ('Dogecoin', 'DOGE', 'dogecoin')\n",
      "5 ('Cardano', 'ADA', 'cardano')\n",
      "6 ('Tether', 'USDT', 'tether')\n",
      "7 ('XRP', 'XRP', 'xrp')\n",
      "8 ('Polkadot', 'DOT', 'polkadot-new')\n",
      "9 ('Internet Computer', 'ICP', 'internet-computer')\n",
      "10 ('Bitcoin Cash', 'BCH', 'bitcoin-cash')\n",
      "\n",
      "TOP 10 CRYPTOCURRENCY STATISTICS\n",
      "          Cryptocurrency  Polarity  Subjectivity\n",
      "6                XRP/XRP  0.500000      0.500000\n",
      "5            Tether/USDT  0.400000      0.400000\n",
      "0            Bitcoin/BTC  0.366667      0.700000\n",
      "1           Ethereum/ETH  0.125000      0.216667\n",
      "3          Dogecoin/DOGE  0.000000      0.550000\n",
      "4            Cardano/ADA  0.000000      0.000000\n",
      "9       Bitcoin Cash/BCH -0.050000      0.350000\n",
      "2       Binance Coin/BNB       NaN           NaN\n",
      "7           Polkadot/DOT       NaN           NaN\n",
      "8  Internet Computer/ICP       NaN           NaN\n",
      "\n",
      "HIGHEST POLARITY:\n",
      "Cryptocurrency    XRP/XRP\n",
      "Polarity              0.5\n",
      "Subjectivity          0.5\n",
      "Name: 6, dtype: object\n",
      "\n",
      "HIGHEST SUBJECTIVITY:\n",
      "Cryptocurrency    Bitcoin/BTC\n",
      "Polarity             0.366667\n",
      "Subjectivity              0.7\n",
      "Name: 0, dtype: object\n",
      "\n",
      "ANALYSIS DONE!\n"
     ]
    }
   ],
   "source": [
    "print('CRYPTOCURRENCY SENTIMENT ANALYSIS...')\n",
    "print(datetime.datetime.today())\n",
    "\n",
    "# create a list for statistics\n",
    "cryptocurrencies = []\n",
    "\n",
    "#Get top N cryptocurrencies\n",
    "for position, cryptocurrency in enumerate(getTopNCryptocurrencies(n)):\n",
    "    print(position+1, cryptocurrency)\n",
    "    # get mean polarity and subjectivity for a crypto (using only 15 tweets)\n",
    "    pol, subj = twitterSentiment(cryptocurrency,language='en')\n",
    "    # add them to stats\n",
    "    cryptocurrencies.append((cryptocurrency[0]+'/'+cryptocurrency[1], pol, subj))\n",
    "\n",
    "# create a dataframe for the mean values using the above list\n",
    "cryptocurrency_stats = pd.DataFrame(cryptocurrencies, columns=['Cryptocurrency','Polarity','Subjectivity'])\n",
    "\n",
    "# Sort the results using polarity descending\n",
    "cryptocurrency_stats.sort_values(by='Polarity', inplace=True, ascending=False)  \n",
    "\n",
    "# print means of the evaluations\n",
    "print(f'\\nTOP {n} CRYPTOCURRENCY STATISTICS')\n",
    "print(cryptocurrency_stats)\n",
    "print('\\nHIGHEST POLARITY:')\n",
    "print(cryptocurrency_stats.loc[cryptocurrency_stats['Polarity'].idxmax()])\n",
    "print('\\nHIGHEST SUBJECTIVITY:')\n",
    "print(cryptocurrency_stats.loc[cryptocurrency_stats['Subjectivity'].idxmax()])\n",
    "print('\\nANALYSIS DONE!')"
   ]
  },
  {
   "cell_type": "code",
   "execution_count": null,
   "metadata": {},
   "outputs": [],
   "source": []
  }
 ],
 "metadata": {
  "kernelspec": {
   "display_name": "Python 3",
   "language": "python",
   "name": "python3"
  },
  "language_info": {
   "codemirror_mode": {
    "name": "ipython",
    "version": 3
   },
   "file_extension": ".py",
   "mimetype": "text/x-python",
   "name": "python",
   "nbconvert_exporter": "python",
   "pygments_lexer": "ipython3",
   "version": "3.8.3"
  }
 },
 "nbformat": 4,
 "nbformat_minor": 4
}
